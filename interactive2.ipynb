{
 "cells": [
  {
   "cell_type": "code",
   "execution_count": 50,
   "metadata": {
    "scrolled": true
   },
   "outputs": [],
   "source": [
    "import nocd\n",
    "import matplotlib.pyplot as plt\n",
    "import numpy as np\n",
    "import scipy.sparse as sp\n",
    "import torch\n",
    "import torch.nn as nn\n",
    "import torch.nn.functional as F\n",
    "\n",
    "from sklearn.preprocessing import normalize\n",
    "\n",
    "%matplotlib inline\n",
    "\n",
    "# torch.set_default_tensor_type(torch.cuda.FloatTensor)"
   ]
  },
  {
   "cell_type": "code",
   "execution_count": 51,
   "metadata": {},
   "outputs": [],
   "source": [
    "import dgl\n",
    "import numpy as np\n",
    "import torch as th\n",
    "from dgl.nn import EdgeGATConv"
   ]
  },
  {
   "cell_type": "code",
   "execution_count": 52,
   "metadata": {},
   "outputs": [],
   "source": [
    "num_nodes, num_edges = 8, 10\n",
    "# Generate a graph.\n",
    "graph = dgl.rand_graph(num_nodes,num_edges)\n",
    "graph = dgl.add_self_loop(graph)\n",
    "num_edges+=num_nodes\n",
    "node_feats = th.rand((num_nodes, 20))\n",
    "edge_feats = th.rand((num_edges, 12))\n"
   ]
  },
  {
   "cell_type": "code",
   "execution_count": 53,
   "metadata": {},
   "outputs": [
    {
     "data": {
      "text/plain": [
       "<networkx.classes.multidigraph.MultiDiGraph at 0x14d1b92cf10>"
      ]
     },
     "execution_count": 53,
     "metadata": {},
     "output_type": "execute_result"
    }
   ],
   "source": [
    "g=dgl.to_networkx(graph)\n",
    "g"
   ]
  },
  {
   "cell_type": "code",
   "execution_count": 54,
   "metadata": {},
   "outputs": [
    {
     "data": {
      "text/plain": [
       "<8x8 sparse matrix of type '<class 'numpy.intc'>'\n",
       "\twith 17 stored elements in Compressed Sparse Row format>"
      ]
     },
     "execution_count": 54,
     "metadata": {},
     "output_type": "execute_result"
    }
   ],
   "source": [
    "import networkx as nx\n",
    "A=nx.to_scipy_sparse_matrix(g, format='csr')\n",
    "A"
   ]
  },
  {
   "cell_type": "code",
   "execution_count": 55,
   "metadata": {},
   "outputs": [
    {
     "data": {
      "text/plain": [
       "<8x20 sparse matrix of type '<class 'numpy.float32'>'\n",
       "\twith 160 stored elements in Compressed Sparse Row format>"
      ]
     },
     "execution_count": 55,
     "metadata": {},
     "output_type": "execute_result"
    }
   ],
   "source": [
    "from scipy.sparse import csr_matrix\n",
    "X=csr_matrix(node_feats.cpu().numpy())\n",
    "X"
   ]
  },
  {
   "cell_type": "code",
   "execution_count": 56,
   "metadata": {},
   "outputs": [],
   "source": [
    "# Set the number of nodes and communities\n",
    "num_nodes = 8\n",
    "num_communities = 3\n",
    "\n",
    "# Create a random affiliation matrix\n",
    "Z_gt = np.random.randint(2, size=(num_nodes, num_communities))"
   ]
  },
  {
   "cell_type": "code",
   "execution_count": 57,
   "metadata": {},
   "outputs": [],
   "source": [
    "N, K = Z_gt.shape"
   ]
  },
  {
   "cell_type": "code",
   "execution_count": 58,
   "metadata": {},
   "outputs": [
    {
     "data": {
      "text/plain": [
       "3"
      ]
     },
     "execution_count": 58,
     "metadata": {},
     "output_type": "execute_result"
    }
   ],
   "source": [
    "K"
   ]
  },
  {
   "cell_type": "markdown",
   "metadata": {},
   "source": [
    "# Defining and training the model"
   ]
  },
  {
   "cell_type": "markdown",
   "metadata": {},
   "source": [
    "Load the dataset\n",
    " - `A` (adjacency matrix) is a `scipy.sparse.csr_matrix` of size `[N, N]`\n",
    " - `X` (attribute matrix) is a `scipy.sparse.csr_matrix` of size `[N, D]`\n",
    " - `Z_gt` (binary community affiliation matrix) is a `np.ndarray` of size `[N, K]`"
   ]
  },
  {
   "cell_type": "markdown",
   "metadata": {},
   "source": [
    "Define the hyperparameters"
   ]
  },
  {
   "cell_type": "code",
   "execution_count": 59,
   "metadata": {},
   "outputs": [],
   "source": [
    "hidden_sizes = [128]    # hidden sizes of the GNN\n",
    "weight_decay = 1e-2     # strength of L2 regularization on GNN weights\n",
    "dropout = 0.5           # whether to use dropout\n",
    "batch_norm = True       # whether to use batch norm\n",
    "lr = 1e-3               # learning rate\n",
    "max_epochs = 500       # number of epochs to train\n",
    "display_step = 25       # how often to compute validation loss\n",
    "balance_loss = True     # whether to use balanced loss\n",
    "stochastic_loss = True  # whether to use stochastic or full-batch training\n",
    "batch_size = 20000      # batch size (only for stochastic training)"
   ]
  },
  {
   "cell_type": "markdown",
   "metadata": {},
   "source": [
    "Select & normalize the feature matrix\n",
    "\n",
    "For some datasets where the features are very informative / correlated with the community structure it's better to use `X` as input (e.g. co-authorship networks w/ keywords as node features). Otherwise, you should try using `A` or `[A, X]` as input."
   ]
  },
  {
   "cell_type": "code",
   "execution_count": 60,
   "metadata": {},
   "outputs": [],
   "source": [
    "x_norm = normalize(X)  # node features\n",
    "# x_norm = normalize(A)  # adjacency matrix\n",
    "# x_norm = sp.hstack([normalize(X), normalize(A)])  # concatenate A and X\n",
    "x_norm = nocd.utils.to_sparse_tensor(x_norm).cuda()"
   ]
  },
  {
   "cell_type": "markdown",
   "metadata": {},
   "source": [
    "Define the GNN model"
   ]
  },
  {
   "cell_type": "code",
   "execution_count": 61,
   "metadata": {},
   "outputs": [],
   "source": [
    "sampler = nocd.sampler.get_edge_sampler(A, batch_size, batch_size, num_workers=5)\n",
    "gnn = nocd.nn.EdgeGATConv(\n",
    "    in_feats=20,\n",
    "    edge_feats=12,\n",
    "    out_feats=3,\n",
    "    num_heads=1,\n",
    ")\n",
    "decoder = nocd.nn.BerpoDecoder(N, A.nnz, balance_loss=balance_loss)\n",
    "opt = torch.optim.Adam(gnn.parameters(), lr=lr)"
   ]
  },
  {
   "cell_type": "code",
   "execution_count": 62,
   "metadata": {},
   "outputs": [],
   "source": [
    "def get_nmi(thresh=0.5):\n",
    "    \"\"\"Compute Overlapping NMI of the communities predicted by the GNN.\"\"\"\n",
    "    gnn.eval()\n",
    "    Z = F.relu(gnn(graph, node_feats, edge_feats))\n",
    "    Z= Z.view(-1, Z.size(2))\n",
    "    Z_pred = Z.cpu().detach().numpy() > thresh\n",
    "    \n",
    "    print(Z_gt.shape)\n",
    "    print(Z_pred.shape)\n",
    "    nmi = nocd.metrics.overlapping_nmi(Z_pred, Z_gt)\n",
    "    return nmi"
   ]
  },
  {
   "cell_type": "markdown",
   "metadata": {},
   "source": [
    "Training loop"
   ]
  },
  {
   "cell_type": "code",
   "execution_count": 63,
   "metadata": {},
   "outputs": [
    {
     "name": "stdout",
     "output_type": "stream",
     "text": [
      "(8, 3)\n",
      "(8, 3)\n",
      "Epoch    0, loss.full = 0.4250, nmi = 0.10\n",
      "(8, 3)\n",
      "(8, 3)\n",
      "Epoch   25, loss.full = 0.3843, nmi = 0.18\n",
      "(8, 3)\n",
      "(8, 3)\n",
      "Epoch   50, loss.full = 0.3581, nmi = 0.18\n",
      "(8, 3)\n",
      "(8, 3)\n",
      "Epoch   75, loss.full = 0.3345, nmi = 0.18\n",
      "(8, 3)\n",
      "(8, 3)\n",
      "Epoch  100, loss.full = 0.3403, nmi = 0.18\n",
      "(8, 3)\n",
      "(8, 3)\n",
      "Epoch  125, loss.full = 0.3378, nmi = 0.18\n",
      "(8, 3)\n",
      "(8, 3)\n",
      "Epoch  150, loss.full = 0.3358, nmi = 0.18\n",
      "(8, 3)\n",
      "(8, 3)\n",
      "Epoch  175, loss.full = 0.3344, nmi = 0.18\n",
      "(8, 3)\n",
      "(8, 3)\n",
      "Epoch  200, loss.full = 0.3346, nmi = 0.23\n",
      "(8, 3)\n",
      "(8, 3)\n",
      "Epoch  225, loss.full = 0.3352, nmi = 0.23\n",
      "(8, 3)\n",
      "(8, 3)\n",
      "Epoch  250, loss.full = 0.3342, nmi = 0.23\n",
      "(8, 3)\n",
      "(8, 3)\n",
      "Epoch  275, loss.full = 0.3324, nmi = 0.23\n",
      "(8, 3)\n",
      "(8, 3)\n",
      "Epoch  300, loss.full = 0.3331, nmi = 0.23\n",
      "(8, 3)\n",
      "(8, 3)\n",
      "Epoch  325, loss.full = 0.3327, nmi = 0.23\n",
      "(8, 3)\n",
      "(8, 3)\n",
      "Epoch  350, loss.full = 0.3324, nmi = 0.23\n",
      "(8, 3)\n",
      "(8, 3)\n",
      "Epoch  375, loss.full = 0.3317, nmi = 0.23\n",
      "(8, 3)\n",
      "(8, 3)\n",
      "Epoch  400, loss.full = 0.3321, nmi = 0.23\n",
      "(8, 3)\n",
      "(8, 3)\n",
      "Epoch  425, loss.full = 0.3306, nmi = 0.23\n",
      "(8, 3)\n",
      "(8, 3)\n",
      "Epoch  450, loss.full = 0.3296, nmi = 0.23\n",
      "(8, 3)\n",
      "(8, 3)\n",
      "Epoch  475, loss.full = 0.3286, nmi = 0.23\n",
      "(8, 3)\n",
      "(8, 3)\n",
      "Epoch  500, loss.full = 0.3282, nmi = 0.23\n"
     ]
    }
   ],
   "source": [
    "val_loss = np.inf\n",
    "validation_fn = lambda: val_loss\n",
    "early_stopping = nocd.train.NoImprovementStopping(validation_fn, patience=10)\n",
    "model_saver = nocd.train.ModelSaver(gnn)\n",
    "\n",
    "for epoch, batch in enumerate(sampler):\n",
    "    if epoch > max_epochs:\n",
    "        break\n",
    "    if epoch % 25 == 0:\n",
    "        with torch.no_grad():\n",
    "            # print('before evaluation...')\n",
    "            gnn.eval()\n",
    "            # print('after evaluation...')\n",
    "            # Compute validation loss\n",
    "            Z = F.relu(gnn(graph, node_feats, edge_feats))\n",
    "            Z_reshaped = Z.view(-1, Z.size(2))\n",
    "            # print('z calculated...')\n",
    "            # print(Z)\n",
    "            val_loss = decoder.loss_full(Z_reshaped, A)\n",
    "            print(f'Epoch {epoch:4d}, loss.full = {val_loss:.4f}, nmi = {get_nmi():.2f}')\n",
    "            \n",
    "            # Check if it's time for early stopping / to save the model\n",
    "            early_stopping.next_step()\n",
    "            if early_stopping.should_save():\n",
    "                model_saver.save()\n",
    "            if early_stopping.should_stop():\n",
    "                print(f'Breaking due to early stopping at epoch {epoch}')\n",
    "                break\n",
    "            \n",
    "    # Training step\n",
    "    # print('before_train...')\n",
    "    gnn.train()\n",
    "    # print('after train...')\n",
    "    opt.zero_grad()\n",
    "    Z = F.relu(gnn(graph, node_feats, edge_feats))\n",
    "    ones_idx, zeros_idx = batch\n",
    "    if stochastic_loss:\n",
    "        loss = decoder.loss_batch(Z, ones_idx, zeros_idx)\n",
    "    else:\n",
    "        loss = decoder.loss_full(Z, A)\n",
    "    # loss += nocd.utils.l2_reg_loss(gnn, scale=weight_decay)\n",
    "    loss.backward()\n",
    "    opt.step()\n",
    "    # print('done')"
   ]
  },
  {
   "cell_type": "markdown",
   "metadata": {},
   "source": [
    "Depending on whether you use balanced loss or not, you should (probably) use different threshold values. From my experience, following are reasonable defaults:\n",
    " - for `balance_loss = True`: `thresh = 0.5`\n",
    " - for `balance_loss = False`: `thresh = 0.01`\n",
    " \n",
    "You can look at the distribution of the non-zero entries of `Z` to decide on a good value for the threshold. \n",
    "I guess it makes sense to select a value that lies in the leftmost \"valley\" of histogram below. \n",
    "You can also look at the unsupervised metrics in the next section of this notebook to make an informed choice.\n",
    "\n",
    "Note that all of these are just speculations based on the behavior that I observed for a handful of datasets, YMMV."
   ]
  },
  {
   "cell_type": "code",
   "execution_count": 66,
   "metadata": {},
   "outputs": [
    {
     "data": {
      "image/png": "[encoded data removed]",
      "text/plain": [
       "<Figure size 640x480 with 1 Axes>"
      ]
     },
     "metadata": {},
     "output_type": "display_data"
    }
   ],
   "source": [
    "plt.hist(Z[Z > 0].cpu().detach().numpy(), 100);"
   ]
  },
  {
   "cell_type": "code",
   "execution_count": 73,
   "metadata": {},
   "outputs": [
    {
     "name": "stdout",
     "output_type": "stream",
     "text": [
      "(8, 3)\n",
      "(8, 3)\n",
      "Final nmi = 0.229\n"
     ]
    }
   ],
   "source": [
    "thresh = 0.5\n",
    "\n",
    "Z = F.relu(gnn(graph, node_feats, edge_feats))\n",
    "Z= Z.view(-1, Z.size(2))\n",
    "Z_pred = Z.cpu().detach().numpy() > thresh\n",
    "model_saver.restore()\n",
    "print(f'Final nmi = {get_nmi(thresh):.3f}')"
   ]
  },
  {
   "cell_type": "markdown",
   "metadata": {},
   "source": [
    "# Analyzing the results"
   ]
  },
  {
   "cell_type": "markdown",
   "metadata": {},
   "source": [
    "### Visualize the adjacency matrix sorted by the communities"
   ]
  },
  {
   "cell_type": "code",
   "execution_count": 74,
   "metadata": {},
   "outputs": [
    {
     "data": {
      "image/png": "[encoded data removed]",
      "text/plain": [
       "<Figure size 1000x1000 with 1 Axes>"
      ]
     },
     "metadata": {},
     "output_type": "display_data"
    }
   ],
   "source": [
    "plt.figure(figsize=[10, 10])\n",
    "z = np.argmax(Z_pred, 1)\n",
    "o = np.argsort(z)\n",
    "nocd.utils.plot_sparse_clustered_adjacency(A, K, z, o, markersize=0.05)"
   ]
  },
  {
   "cell_type": "code",
   "execution_count": 75,
   "metadata": {},
   "outputs": [
    {
     "name": "stdout",
     "output_type": "stream",
     "text": [
      "[3 6 0]\n"
     ]
    }
   ],
   "source": [
    "# Sizes of detected communities\n",
    "print(Z_pred.sum(0))"
   ]
  },
  {
   "cell_type": "markdown",
   "metadata": {},
   "source": [
    "### Quantify quality of the communities based on unsupervised metrics."
   ]
  },
  {
   "cell_type": "markdown",
   "metadata": {},
   "source": [
    "Metrics:\n",
    "* **Coverage**: what percentage of the edges is explained by at least one community? (i.e. if $(u, v)$ is an edge, both nodes share at least one community) Higher is better.\n",
    "$$\\textrm{Coverage}(C_1, ..., C_K) = \\frac{1}{|E|}\\sum_{u, v \\in E} \\mathbb{1}[z_u^T z_v > 0]$$\n",
    "\n",
    "\n",
    "* **Density**: average density of the detected communities (weighted by community size). Higher is better.\n",
    "\n",
    "$$\\rho(C) = \\frac{\\text{# existing edges in $C$}}{\\text{# of possible edges in $C$}}$$\n",
    "\n",
    "$$\\textrm{AvgDensity}(C_1, ..., C_K) = \\frac{1}{\\sum_i |C_i|}\\sum_i \\rho(C_i) \\cdot |C_i|$$\n",
    "\n",
    "\n",
    "* **Conductance**: average conductance of the detected communities (weighted by community size). Lower is better.\n",
    "\n",
    "$$\\textrm{outside}(C) = \\sum_{u \\in C, v \\notin C} A_{uv}$$\n",
    "\n",
    "$$\\textrm{inside}(C) = \\sum_{u \\in C, v \\in C, v \\ne u} A_{uv}$$\n",
    "\n",
    "$$\\textrm{Conductance}(C) = \\frac{\\textrm{outside}(C)}{\\textrm{inside}(C) + \\textrm{outside}(C)}$$\n",
    "\n",
    "$$\\textrm{AvgConductance}(C_1, ..., C_K) = \\frac{1}{\\sum_i |C_i|}\\sum_i \\textrm{Conductance}(C_i) \\cdot |C_i|$$\n",
    "\n",
    "\n",
    "* **Clustering coefficient**: average clustering coefficient of the detected communities (weighted by community size). Higher is better.\n",
    "\n",
    "$$\\textrm{ClustCoef}(C) = \\frac{\\text{# existing triangles in $C$}}{\\text{# of possible triangles in $C$}}$$\n",
    "\n",
    "$$\\textrm{AvgClustCoef}(C_1, ..., C_K) = \\frac{1}{\\sum_i |C_i|}\\sum_i \\textrm{ClustCoef}(C_i) \\cdot |C_i|$$"
   ]
  },
  {
   "cell_type": "markdown",
   "metadata": {},
   "source": [
    "Clustering coefficient & density of the entire graph"
   ]
  },
  {
   "cell_type": "code",
   "execution_count": 76,
   "metadata": {},
   "outputs": [
    {
     "name": "stdout",
     "output_type": "stream",
     "text": [
      "Background (over the entire graph):\n",
      " - density    = 3.036e-01\n",
      " - clust_coef = 6.250e-02\n"
     ]
    }
   ],
   "source": [
    "density_baseline = A.nnz / (N**2 - N)\n",
    "num_triangles = (A @ A @ A).diagonal().sum() / 6\n",
    "num_possible_triangles = (N - 2) * (N - 1) * N / 6\n",
    "clust_coef_baseline = num_triangles / num_possible_triangles\n",
    "print(f'Background (over the entire graph):\\n'\n",
    "      f' - density    = {density_baseline:.3e}\\n'\n",
    "      f' - clust_coef = {clust_coef_baseline:.3e}')"
   ]
  },
  {
   "cell_type": "code",
   "execution_count": 77,
   "metadata": {},
   "outputs": [
    {
     "name": "stdout",
     "output_type": "stream",
     "text": [
      "Ground truth communities:\n",
      " - coverage    = 1.0000\n",
      " - conductance = 0.1995\n",
      " - density     = 4.500e-01\n",
      " - clust_coef  = 2.333e-01\n"
     ]
    }
   ],
   "source": [
    "metrics = nocd.metrics.evaluate_unsupervised(Z_gt, A)\n",
    "print(f\"Ground truth communities:\\n\"\n",
    "      f\" - coverage    = {metrics['coverage']:.4f}\\n\"\n",
    "      f\" - conductance = {metrics['conductance']:.4f}\\n\"\n",
    "      f\" - density     = {metrics['density']:.3e}\\n\"\n",
    "      f\" - clust_coef  = {metrics['clustering_coef']:.3e}\")"
   ]
  },
  {
   "cell_type": "code",
   "execution_count": 78,
   "metadata": {},
   "outputs": [
    {
     "name": "stdout",
     "output_type": "stream",
     "text": [
      "Predicted communities:\n",
      " - coverage    = 0.8235\n",
      " - conductance = 0.0921\n",
      " - density     = 6.444e-01\n",
      " - clust_coef  = 6.056e-01\n"
     ]
    }
   ],
   "source": [
    "metrics = nocd.metrics.evaluate_unsupervised(Z_pred, A)\n",
    "print(f\"Predicted communities:\\n\"\n",
    "      f\" - coverage    = {metrics['coverage']:.4f}\\n\"\n",
    "      f\" - conductance = {metrics['conductance']:.4f}\\n\"\n",
    "      f\" - density     = {metrics['density']:.3e}\\n\"\n",
    "      f\" - clust_coef  = {metrics['clustering_coef']:.3e}\")"
   ]
  },
  {
   "cell_type": "markdown",
   "metadata": {},
   "source": [
    "The detected partition has lower conductance / higher density / higher clustering coefficient than the GT communities."
   ]
  }
 ],
 "metadata": {
  "kernelspec": {
   "display_name": "Python 3",
   "language": "python",
   "name": "python3"
  },
  "language_info": {
   "codemirror_mode": {
    "name": "ipython",
    "version": 3
   },
   "file_extension": ".py",
   "mimetype": "text/x-python",
   "name": "python",
   "nbconvert_exporter": "python",
   "pygments_lexer": "ipython3",
   "version": "3.11.8"
  },
  "toc": {
   "base_numbering": 1,
   "nav_menu": {},
   "number_sections": true,
   "sideBar": true,
   "skip_h1_title": false,
   "title_cell": "Table of Contents",
   "title_sidebar": "Contents",
   "toc_cell": false,
   "toc_position": {},
   "toc_section_display": true,
   "toc_window_display": false
  }
 },
 "nbformat": 4,
 "nbformat_minor": 2
}
